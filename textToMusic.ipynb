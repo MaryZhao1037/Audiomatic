{
 "cells": [
  {
   "cell_type": "code",
   "execution_count": 4,
   "metadata": {},
   "outputs": [
    {
     "name": "stdout",
     "output_type": "stream",
     "text": [
      "Collecting python-dotenv\n",
      "  Downloading python_dotenv-1.0.1-py3-none-any.whl.metadata (23 kB)\n",
      "Downloading python_dotenv-1.0.1-py3-none-any.whl (19 kB)\n",
      "Installing collected packages: python-dotenv\n",
      "Successfully installed python-dotenv-1.0.1\n"
     ]
    }
   ],
   "source": [
    "# ! pip install gradio_client\n",
    "# ! pip install python-dotenv"
   ]
  },
  {
   "cell_type": "code",
   "execution_count": 18,
   "metadata": {},
   "outputs": [],
   "source": [
    "import requests\n",
    "import os\n",
    "from huggingface_hub import HfApi\n",
    "from dotenv import load_dotenv\n",
    "\n",
    "API_URL = \"https://api-inference.huggingface.co/models/facebook/musicgen-small\"\n",
    "load_dotenv()\n",
    "api_token = os.getenv(\"HUGGINGFACE_HUB_TOKEN\")\n",
    "headers = {\"Authorization\": f\"Bearer {api_token}\"}\n",
    "\n",
    "def query(payload):\n",
    "\tresponse = requests.post(API_URL, headers=headers, json=payload)\n",
    "\treturn response.content\n",
    "\n",
    "audio_bytes = query({\n",
    "\t\"inputs\": \"A hauntingly beautiful orchestral piece with gentle strings and distant, ethereal choirs, evoking a sense of vastness and wonder. Soft woodwinds and shimmering bells add a mystical quality, while subtle, deep percussion creates an undercurrent of power and solitude. The music crescendos gradually, reflecting the awe and humility of standing alone beneath a cosmic sky.\",\n",
    "})\n",
    "Audio(audio_bytes)\n",
    "with open(\"result.wav\", \"wb\") as f:\n",
    "\tf.write(audio_bytes)"
   ]
  }
 ],
 "metadata": {
  "kernelspec": {
   "display_name": "Python 3",
   "language": "python",
   "name": "python3"
  },
  "language_info": {
   "codemirror_mode": {
    "name": "ipython",
    "version": 3
   },
   "file_extension": ".py",
   "mimetype": "text/x-python",
   "name": "python",
   "nbconvert_exporter": "python",
   "pygments_lexer": "ipython3",
   "version": "3.12.2"
  }
 },
 "nbformat": 4,
 "nbformat_minor": 2
}
